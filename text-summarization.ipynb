{
 "cells": [
  {
   "cell_type": "markdown",
   "metadata": {},
   "source": [
    "# Text Summarization - Extractive\n",
    "Extractive approach - a simple approach which is extracting key words or sentences from an article.\n",
    "Abstractive approach - generating a new sentences based on given article. It needs more advanced techniques.\n",
    "\n",
    "1. Understand PageRank algorithm\n",
    "2. Understand TextRank algorithm\n",
    "3. How can we use TextRank algorithm to have a summarization"
   ]
  },
  {
   "cell_type": "markdown",
   "metadata": {},
   "source": [
    "### TextRank from Gensim"
   ]
  },
  {
   "cell_type": "code",
   "execution_count": null,
   "metadata": {},
   "outputs": [],
   "source": [
    "import gensim \n",
    "print('gensim Version: %s' % (gensim.__version__))"
   ]
  },
  {
   "cell_type": "code",
   "execution_count": null,
   "metadata": {},
   "outputs": [],
   "source": [
    "content = \"Ladies and gentlemen, the Vice-President and I are very pleased to welcome you to our press conference. We will now report on the outcome of today’s meeting of the Governing Council, which was also attended by the Commission Vice-President, Mr Dombrovskis, and the incoming President, Ms Lagarde. Based on our regular economic and monetary analyses, we decided to keep the key ECB interest rates unchanged. We expect them to remain at their present or lower levels until we have seen the inflation outlook robustly converge to a level sufficiently close to, but below, 2% within our projection horizon, and such convergence has been consistently reflected in underlying inflation dynamics. As decided at our last meeting in September, we will restart net purchases under our asset purchase programme (APP) at a monthly pace of €20 billion as from 1 November. We expect them to run for as long as necessary to reinforce the accommodative impact of our policy rates, and to end shortly before we start raising the key ECB interest rates. We also intend to continue reinvesting, in full, the principal payments from maturing securities purchased under the APP for an extended period of time past the date when we start raising the key ECB interest rates, and in any case for as long as necessary to maintain favourable liquidity conditions and an ample degree of monetary accommodation. The Governing Council reiterated the need for a highly accommodative stance of monetary policy for a prolonged period of time to support underlying inflation pressures and headline inflation developments over the medium term. In particular, the Governing Council’s forward guidance will ensure that financial conditions adjust in accordance with changes to the inflation outlook. In any case, the Governing Council continues to stand ready to adjust all of its instruments, as appropriate, to ensure that inflation moves towards its aim in a sustained manner, in line with its commitment to symmetry. The incoming data since the last Governing Council meeting in early September confirm our previous assessment of a protracted weakness in euro area growth dynamics, the persistence of prominent downside risks and muted inflation pressures. At the same time, ongoing employment growth and increasing wages continue to underpin the resilience of the euro area economy. The comprehensive package of policy measures that we decided at our last meeting provides substantial monetary stimulus, which will contribute to a further easing in borrowing conditions for firms and households. This will support the euro area expansion, the ongoing build-up of domestic price pressures and, thus, the sustained convergence of inflation to our medium-term inflation aim. Let me now explain our assessment in greater detail, starting with the economic analysis. Euro area real GDP growth was confirmed at 0.2%, quarter on quarter, in the second quarter of 2019, following a rise of 0.4% in the previous quarter. Incoming economic data and survey information continue to point to moderate but positive growth in the second half of this year. This slowdown in growth mainly reflects the ongoing weakness of international trade in an environment of persistent global uncertainties, which continue to weigh on the euro area manufacturing sector and are dampening investment growth. At the same time, the services and construction sectors remain resilient, despite some moderation. The euro area expansion is supported by favourable financing conditions, further employment gains in conjunction with rising wages, the mildly expansionary euro area fiscal stance and the ongoing – albeit somewhat slower – growth in global activity. The risks surrounding the euro area growth outlook remain on the downside. In particular, these risks pertain to the prolonged presence of uncertainties, related to geopolitical factors, rising protectionism and vulnerabilities in emerging markets. Euro area annual HICP inflation decreased from 1.0% in August 2019 to 0.8% in September, reflecting lower food and energy price inflation. On the basis of current futures prices for oil, headline inflation is likely to decline slightly further before rising again at the end of the year. Measures of underlying inflation remained generally muted and indicators of inflation expectations stand at low levels. While labour cost pressures have strengthened amid tighter labour markets, the weaker growth momentum is delaying their pass-through to inflation. Over the medium term inflation is expected to increase, supported by our monetary policy measures, the ongoing economic expansion and robust wage growth. Turning to the monetary analysis, broad money (M3) growth increased to 5.7% in August 2019, after 5.1% in July. Sustained rates of broad money growth reflect ongoing bank credit creation for the private sector and low opportunity costs of holding M3. The narrow monetary aggregate M1 continues to be the main contributor to broad money growth on the components side. The growth of loans to firms and households remained solid, benefiting from the continued pass-through of our accommodative monetary policy stance to bank lending rates. The annual growth rate of loans to non-financial corporations increased to 4.3% in August, from 4.0% in July 2019, while the annual growth rate of loans to households remained unchanged at 3.4% in August. The euro area bank lending survey for the third quarter of 2019 indicates a slight easing of credit standards and increasing demand for loans to households, while demand for loans to firms remained broadly stable. Our accommodative monetary policy stance will help to safeguard favourable bank lending conditions and will continue to support access to financing, in particular for small and medium-sized enterprises. To sum up, a cross-check of the outcome of the economic analysis with the signals coming from the monetary analysis confirmed that an ample degree of monetary accommodation is still necessary for the continued sustained convergence of inflation to levels that are below, but close to, 2% over the medium term. In order to reap the full benefits from our monetary policy measures, other policy areas must contribute more decisively to raising the longer-term growth potential, supporting aggregate demand at the current juncture and reducing vulnerabilities. The implementation of structural policies in euro area countries needs to be substantially stepped up to boost euro area productivity and growth potential, reduce structural unemployment and increase resilience. The 2019 country-specific recommendations should serve as the relevant signpost. Regarding fiscal policies, the mildly expansionary euro area fiscal stance is currently providing some support to economic activity. In view of the weakening economic outlook and the continued prominence of downside risks, governments with fiscal space should act in an effective and timely manner. In countries where public debt is high, governments need to pursue prudent policies and meet structural balance targets, which will create the conditions for automatic stabilisers to operate freely. All countries should intensify their efforts to achieve a more growth-friendly composition of public finances. Likewise, the transparent and consistent implementation of the European Union’s fiscal and economic governance framework over time and across countries remains essential to bolster the resilience of the euro area economy. Improving the functioning of Economic and Monetary Union remains a priority. The Governing Council welcomes the ongoing work and urges further specific and decisive steps to complete the banking union and the capital markets union.\""
   ]
  },
  {
   "cell_type": "code",
   "execution_count": null,
   "metadata": {},
   "outputs": [],
   "source": [
    "print('Original Content:')\n",
    "print(content)"
   ]
  },
  {
   "cell_type": "code",
   "execution_count": 8,
   "metadata": {},
   "outputs": [
    {
     "name": "stdout",
     "output_type": "stream",
     "text": [
      "\n",
      "---> Summarized Content (Ratio is 0.3):\n",
      "We also intend to continue reinvesting, in full, the principal payments from maturing securities purchased under the APP for an extended period of time past the date when we start raising the key ECB interest rates, and in any case for as long as necessary to maintain favourable liquidity conditions and an ample degree of monetary accommodation.\n",
      "The Governing Council reiterated the need for a highly accommodative stance of monetary policy for a prolonged period of time to support underlying inflation pressures and headline inflation developments over the medium term.\n",
      "The incoming data since the last Governing Council meeting in early September confirm our previous assessment of a protracted weakness in euro area growth dynamics, the persistence of prominent downside risks and muted inflation pressures.\n",
      "At the same time, ongoing employment growth and increasing wages continue to underpin the resilience of the euro area economy.\n",
      "This will support the euro area expansion, the ongoing build-up of domestic price pressures and, thus, the sustained convergence of inflation to our medium-term inflation aim.\n",
      "The euro area expansion is supported by favourable financing conditions, further employment gains in conjunction with rising wages, the mildly expansionary euro area fiscal stance and the ongoing – albeit somewhat slower – growth in global activity.\n",
      "Over the medium term inflation is expected to increase, supported by our monetary policy measures, the ongoing economic expansion and robust wage growth.\n",
      "The growth of loans to firms and households remained solid, benefiting from the continued pass-through of our accommodative monetary policy stance to bank lending rates.\n",
      "Our accommodative monetary policy stance will help to safeguard favourable bank lending conditions and will continue to support access to financing, in particular for small and medium-sized enterprises.\n",
      "To sum up, a cross-check of the outcome of the economic analysis with the signals coming from the monetary analysis confirmed that an ample degree of monetary accommodation is still necessary for the continued sustained convergence of inflation to levels that are below, but close to, 2% over the medium term.\n",
      "In order to reap the full benefits from our monetary policy measures, other policy areas must contribute more decisively to raising the longer-term growth potential, supporting aggregate demand at the current juncture and reducing vulnerabilities.\n",
      "Regarding fiscal policies, the mildly expansionary euro area fiscal stance is currently providing some support to economic activity.\n",
      "Likewise, the transparent and consistent implementation of the European Union’s fiscal and economic governance framework over time and across countries remains essential to bolster the resilience of the euro area economy.\n",
      "\n",
      "---> Summarized Content (Ratio is 0.5):\n",
      "We also intend to continue reinvesting, in full, the principal payments from maturing securities purchased under the APP for an extended period of time past the date when we start raising the key ECB interest rates, and in any case for as long as necessary to maintain favourable liquidity conditions and an ample degree of monetary accommodation.\n",
      "The Governing Council reiterated the need for a highly accommodative stance of monetary policy for a prolonged period of time to support underlying inflation pressures and headline inflation developments over the medium term.\n",
      "In any case, the Governing Council continues to stand ready to adjust all of its instruments, as appropriate, to ensure that inflation moves towards its aim in a sustained manner, in line with its commitment to symmetry.\n",
      "The incoming data since the last Governing Council meeting in early September confirm our previous assessment of a protracted weakness in euro area growth dynamics, the persistence of prominent downside risks and muted inflation pressures.\n",
      "At the same time, ongoing employment growth and increasing wages continue to underpin the resilience of the euro area economy.\n",
      "The comprehensive package of policy measures that we decided at our last meeting provides substantial monetary stimulus, which will contribute to a further easing in borrowing conditions for firms and households.\n",
      "This will support the euro area expansion, the ongoing build-up of domestic price pressures and, thus, the sustained convergence of inflation to our medium-term inflation aim.\n",
      "This slowdown in growth mainly reflects the ongoing weakness of international trade in an environment of persistent global uncertainties, which continue to weigh on the euro area manufacturing sector and are dampening investment growth.\n",
      "The euro area expansion is supported by favourable financing conditions, further employment gains in conjunction with rising wages, the mildly expansionary euro area fiscal stance and the ongoing – albeit somewhat slower – growth in global activity.\n",
      "The risks surrounding the euro area growth outlook remain on the downside.\n",
      "Over the medium term inflation is expected to increase, supported by our monetary policy measures, the ongoing economic expansion and robust wage growth.\n",
      "Sustained rates of broad money growth reflect ongoing bank credit creation for the private sector and low opportunity costs of holding M3.\n",
      "The growth of loans to firms and households remained solid, benefiting from the continued pass-through of our accommodative monetary policy stance to bank lending rates.\n",
      "The euro area bank lending survey for the third quarter of 2019 indicates a slight easing of credit standards and increasing demand for loans to households, while demand for loans to firms remained broadly stable.\n",
      "Our accommodative monetary policy stance will help to safeguard favourable bank lending conditions and will continue to support access to financing, in particular for small and medium-sized enterprises.\n",
      "To sum up, a cross-check of the outcome of the economic analysis with the signals coming from the monetary analysis confirmed that an ample degree of monetary accommodation is still necessary for the continued sustained convergence of inflation to levels that are below, but close to, 2% over the medium term.\n",
      "In order to reap the full benefits from our monetary policy measures, other policy areas must contribute more decisively to raising the longer-term growth potential, supporting aggregate demand at the current juncture and reducing vulnerabilities.\n",
      "The implementation of structural policies in euro area countries needs to be substantially stepped up to boost euro area productivity and growth potential, reduce structural unemployment and increase resilience.\n",
      "Regarding fiscal policies, the mildly expansionary euro area fiscal stance is currently providing some support to economic activity.\n",
      "In view of the weakening economic outlook and the continued prominence of downside risks, governments with fiscal space should act in an effective and timely manner.\n",
      "Likewise, the transparent and consistent implementation of the European Union’s fiscal and economic governance framework over time and across countries remains essential to bolster the resilience of the euro area economy.\n",
      "The Governing Council welcomes the ongoing work and urges further specific and decisive steps to complete the banking union and the capital markets union.\n",
      "\n",
      "---> Summarized Content (Ratio is 0.7):\n",
      "We expect them to remain at their present or lower levels until we have seen the inflation outlook robustly converge to a level sufficiently close to, but below, 2% within our projection horizon, and such convergence has been consistently reflected in underlying inflation dynamics.\n",
      "We expect them to run for as long as necessary to reinforce the accommodative impact of our policy rates, and to end shortly before we start raising the key ECB interest rates.\n",
      "We also intend to continue reinvesting, in full, the principal payments from maturing securities purchased under the APP for an extended period of time past the date when we start raising the key ECB interest rates, and in any case for as long as necessary to maintain favourable liquidity conditions and an ample degree of monetary accommodation.\n",
      "The Governing Council reiterated the need for a highly accommodative stance of monetary policy for a prolonged period of time to support underlying inflation pressures and headline inflation developments over the medium term.\n",
      "In particular, the Governing Council’s forward guidance will ensure that financial conditions adjust in accordance with changes to the inflation outlook.\n",
      "In any case, the Governing Council continues to stand ready to adjust all of its instruments, as appropriate, to ensure that inflation moves towards its aim in a sustained manner, in line with its commitment to symmetry.\n",
      "The incoming data since the last Governing Council meeting in early September confirm our previous assessment of a protracted weakness in euro area growth dynamics, the persistence of prominent downside risks and muted inflation pressures.\n",
      "At the same time, ongoing employment growth and increasing wages continue to underpin the resilience of the euro area economy.\n",
      "The comprehensive package of policy measures that we decided at our last meeting provides substantial monetary stimulus, which will contribute to a further easing in borrowing conditions for firms and households.\n",
      "This will support the euro area expansion, the ongoing build-up of domestic price pressures and, thus, the sustained convergence of inflation to our medium-term inflation aim.\n",
      "Euro area real GDP growth was confirmed at 0.2%, quarter on quarter, in the second quarter of 2019, following a rise of 0.4% in the previous quarter.\n",
      "Incoming economic data and survey information continue to point to moderate but positive growth in the second half of this year.\n",
      "This slowdown in growth mainly reflects the ongoing weakness of international trade in an environment of persistent global uncertainties, which continue to weigh on the euro area manufacturing sector and are dampening investment growth.\n",
      "The euro area expansion is supported by favourable financing conditions, further employment gains in conjunction with rising wages, the mildly expansionary euro area fiscal stance and the ongoing – albeit somewhat slower – growth in global activity.\n",
      "The risks surrounding the euro area growth outlook remain on the downside.\n",
      "Euro area annual HICP inflation decreased from 1.0% in August 2019 to 0.8% in September, reflecting lower food and energy price inflation.\n",
      "Measures of underlying inflation remained generally muted and indicators of inflation expectations stand at low levels.\n",
      "Over the medium term inflation is expected to increase, supported by our monetary policy measures, the ongoing economic expansion and robust wage growth.\n",
      "Turning to the monetary analysis, broad money (M3) growth increased to 5.7% in August 2019, after 5.1% in July.\n",
      "Sustained rates of broad money growth reflect ongoing bank credit creation for the private sector and low opportunity costs of holding M3.\n",
      "The growth of loans to firms and households remained solid, benefiting from the continued pass-through of our accommodative monetary policy stance to bank lending rates.\n",
      "The euro area bank lending survey for the third quarter of 2019 indicates a slight easing of credit standards and increasing demand for loans to households, while demand for loans to firms remained broadly stable.\n",
      "Our accommodative monetary policy stance will help to safeguard favourable bank lending conditions and will continue to support access to financing, in particular for small and medium-sized enterprises.\n",
      "To sum up, a cross-check of the outcome of the economic analysis with the signals coming from the monetary analysis confirmed that an ample degree of monetary accommodation is still necessary for the continued sustained convergence of inflation to levels that are below, but close to, 2% over the medium term.\n",
      "In order to reap the full benefits from our monetary policy measures, other policy areas must contribute more decisively to raising the longer-term growth potential, supporting aggregate demand at the current juncture and reducing vulnerabilities.\n",
      "The implementation of structural policies in euro area countries needs to be substantially stepped up to boost euro area productivity and growth potential, reduce structural unemployment and increase resilience.\n",
      "Regarding fiscal policies, the mildly expansionary euro area fiscal stance is currently providing some support to economic activity.\n",
      "In view of the weakening economic outlook and the continued prominence of downside risks, governments with fiscal space should act in an effective and timely manner.\n",
      "In countries where public debt is high, governments need to pursue prudent policies and meet structural balance targets, which will create the conditions for automatic stabilisers to operate freely.\n",
      "Likewise, the transparent and consistent implementation of the European Union’s fiscal and economic governance framework over time and across countries remains essential to bolster the resilience of the euro area economy.\n",
      "The Governing Council welcomes the ongoing work and urges further specific and decisive steps to complete the banking union and the capital markets union.\n"
     ]
    }
   ],
   "source": [
    "for ratio in [0.3, 0.5, 0.7]:\n",
    "    summarized_content = gensim.summarization.summarize(content, ratio=ratio)\n",
    "    print()\n",
    "    print('---> Summarized Content (Ratio is %.1f):' % ratio)\n",
    "    print(summarized_content)"
   ]
  },
  {
   "cell_type": "code",
   "execution_count": 9,
   "metadata": {},
   "outputs": [
    {
     "name": "stdout",
     "output_type": "stream",
     "text": [
      "\n",
      "---> Summarized Content (Word Count is 10):\n",
      "\n",
      "\n",
      "---> Summarized Content (Word Count is 30):\n",
      "The incoming data since the last Governing Council meeting in early September confirm our previous assessment of a protracted weakness in euro area growth dynamics, the persistence of prominent downside risks and muted inflation pressures.\n",
      "\n",
      "---> Summarized Content (Word Count is 50):\n",
      "The incoming data since the last Governing Council meeting in early September confirm our previous assessment of a protracted weakness in euro area growth dynamics, the persistence of prominent downside risks and muted inflation pressures.\n"
     ]
    }
   ],
   "source": [
    "for word_count in [10, 30, 50]:\n",
    "    summarized_content = gensim.summarization.summarize(content, word_count=word_count)\n",
    "    print()\n",
    "    print('---> Summarized Content (Word Count is %d):' % word_count)\n",
    "    print(summarized_content)"
   ]
  },
  {
   "cell_type": "code",
   "execution_count": null,
   "metadata": {},
   "outputs": [],
   "source": []
  }
 ],
 "metadata": {
  "kernelspec": {
   "display_name": "Python 3",
   "language": "python",
   "name": "python3"
  },
  "language_info": {
   "codemirror_mode": {
    "name": "ipython",
    "version": 3
   },
   "file_extension": ".py",
   "mimetype": "text/x-python",
   "name": "python",
   "nbconvert_exporter": "python",
   "pygments_lexer": "ipython3",
   "version": "3.6.7"
  }
 },
 "nbformat": 4,
 "nbformat_minor": 4
}
